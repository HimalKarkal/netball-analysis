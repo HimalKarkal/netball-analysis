{
  "nbformat": 4,
  "nbformat_minor": 0,
  "metadata": {
    "colab": {
      "provenance": [],
      "authorship_tag": "ABX9TyMwZZGF/r06xYTq97Zq33qp",
      "include_colab_link": true
    },
    "kernelspec": {
      "name": "python3",
      "display_name": "Python 3"
    },
    "language_info": {
      "name": "python"
    }
  },
  "cells": [
    {
      "cell_type": "markdown",
      "metadata": {
        "id": "view-in-github",
        "colab_type": "text"
      },
      "source": [
        "<a href=\"https://colab.research.google.com/github/HimalKarkal/netball-analysis/blob/master/TrueSkill_Final.ipynb\" target=\"_parent\"><img src=\"https://colab.research.google.com/assets/colab-badge.svg\" alt=\"Open In Colab\"/></a>"
      ]
    },
    {
      "cell_type": "markdown",
      "source": [
        "# Introduction\n",
        "\n",
        "This notebook attempts to rate SSN Netball players using the TrueSkill Rating System.\n",
        "\n",
        "The logic used is as follows:\n",
        "\n",
        "1. Enumerate filepaths for the season of interest.\n",
        "2. For each unique filepath, read in the *substitutions* and *playerStats* files as dataframes.\n",
        "3. Using the substitutions file, classify players to positions.\n",
        "4. Add the player positions to the playerStats dataframe.\n",
        "5. For each position, group by position and calculate the means of each statistic.\n",
        "6. Rate these means against the means of the previous week. This accounts for overall changes in quality in the league.\n",
        "7. Each player's individual metrics are rated against the result produced in the previous step and stored in a list in a dictionary.\n",
        "9. The league average dictionary is updated to prepare for next week.\n",
        "10. The following storage items are required: Dict(League average previous week and rating) & Dict(Player's ratings weekly)"
      ],
      "metadata": {
        "id": "LL6mNDZtQfS5"
      }
    },
    {
      "cell_type": "markdown",
      "source": [
        "# 1. Filepaths\n",
        "\n",
        "This section creates a list of filepaths for the *substitutions* and *playerStats* files for the range of seasons in question."
      ],
      "metadata": {
        "id": "h7B-5IkXePO2"
      }
    },
    {
      "cell_type": "code",
      "source": [
        "# Cloning the data from GitHub\n",
        "\n",
        "! git clone 'https://github.com/HimalKarkal/netball-analysis.git'"
      ],
      "metadata": {
        "colab": {
          "base_uri": "https://localhost:8080/"
        },
        "id": "jemTxHQue5ye",
        "outputId": "4341bef9-c6b6-4fc6-af6f-26294df2b695"
      },
      "execution_count": 2,
      "outputs": [
        {
          "output_type": "stream",
          "name": "stdout",
          "text": [
            "Cloning into 'netball-analysis'...\n",
            "remote: Enumerating objects: 26862, done.\u001b[K\n",
            "remote: Counting objects: 100% (3090/3090), done.\u001b[K\n",
            "remote: Compressing objects: 100% (2120/2120), done.\u001b[K\n",
            "remote: Total 26862 (delta 877), reused 3077 (delta 870), pack-reused 23772\u001b[K\n",
            "Receiving objects: 100% (26862/26862), 45.28 MiB | 20.62 MiB/s, done.\n",
            "Resolving deltas: 100% (13064/13064), done.\n",
            "Updating files: 100% (14888/14888), done.\n"
          ]
        }
      ]
    },
    {
      "cell_type": "code",
      "execution_count": 38,
      "metadata": {
        "id": "MSGojxx7QDIo"
      },
      "outputs": [],
      "source": [
        "# Importing necessary modules\n",
        "\n",
        "import glob"
      ]
    },
    {
      "cell_type": "code",
      "source": [
        "# Creating dictionaries of filepaths for substitutions and playerStats for each round in a season and tournament.\n",
        "\n",
        "season = \"2020\" # Use this to change the year\n",
        "tournament = \"SSN\" # Use this to change the tournament\n",
        "\n",
        "list_subs = glob.glob(\"/content/netball-analysis/data/matchCentre/processed/*/\" + \"*substitutions*\" + season + \"*\" + tournament + \"*.csv\")\n",
        "list_playerStats = glob.glob(\"/content/netball-analysis/data/matchCentre/processed/*/\" + \"*playerStats*\" + season + \"*\" + tournament + \"*.csv\")\n",
        "\n",
        "list_subs.sort()\n",
        "list_playerStats.sort()\n",
        "\n",
        "dict_subs = {}\n",
        "dict_playerStats = {}\n",
        "\n",
        "i = 1\n",
        "while i <= 14:\n",
        "  dict_subs[i] = list_subs[4 * (i-1): 4 * i]\n",
        "  dict_playerStats[i] = list_playerStats[4 * (i-1): 4 * i]\n",
        "\n",
        "  i += 1"
      ],
      "metadata": {
        "id": "nswL1WTsfKkx"
      },
      "execution_count": 46,
      "outputs": []
    },
    {
      "cell_type": "markdown",
      "source": [
        "# Rating\n",
        "\n",
        "This section rates each player for every round in the league."
      ],
      "metadata": {
        "id": "8FpZgJZ7m9Ou"
      }
    }
  ]
}