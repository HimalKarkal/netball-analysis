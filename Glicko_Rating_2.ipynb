{
  "nbformat": 4,
  "nbformat_minor": 0,
  "metadata": {
    "colab": {
      "provenance": [],
      "authorship_tag": "ABX9TyMv0DN1cWCg0FBT6knuzCzO",
      "include_colab_link": true
    },
    "kernelspec": {
      "name": "python3",
      "display_name": "Python 3"
    },
    "language_info": {
      "name": "python"
    }
  },
  "cells": [
    {
      "cell_type": "markdown",
      "metadata": {
        "id": "view-in-github",
        "colab_type": "text"
      },
      "source": [
        "<a href=\"https://colab.research.google.com/github/HimalKarkal/netball-analysis/blob/master/Glicko_Rating_2.ipynb\" target=\"_parent\"><img src=\"https://colab.research.google.com/assets/colab-badge.svg\" alt=\"Open In Colab\"/></a>"
      ]
    },
    {
      "cell_type": "code",
      "source": [
        "# Cloning the data from GitHub\n",
        "\n",
        "! git clone 'https://github.com/HimalKarkal/netball-analysis.git'"
      ],
      "metadata": {
        "colab": {
          "base_uri": "https://localhost:8080/"
        },
        "id": "7GBtOVlBSObR",
        "outputId": "eff64f62-d0dd-48e7-a36b-89ec90833022"
      },
      "execution_count": 11,
      "outputs": [
        {
          "output_type": "stream",
          "name": "stdout",
          "text": [
            "Cloning into 'netball-analysis'...\n",
            "remote: Enumerating objects: 26871, done.\u001b[K\n",
            "remote: Counting objects: 100% (3099/3099), done.\u001b[K\n",
            "remote: Compressing objects: 100% (2129/2129), done.\u001b[K\n",
            "remote: Total 26871 (delta 881), reused 3076 (delta 870), pack-reused 23772\u001b[K\n",
            "Receiving objects: 100% (26871/26871), 45.30 MiB | 19.79 MiB/s, done.\n",
            "Resolving deltas: 100% (13068/13068), done.\n",
            "Updating files: 100% (14890/14890), done.\n"
          ]
        }
      ]
    },
    {
      "cell_type": "markdown",
      "source": [
        "# Defining the Glicko Rating System"
      ],
      "metadata": {
        "id": "6UY8KG2yPzwg"
      }
    },
    {
      "cell_type": "code",
      "source": [
        "import math\n",
        "\n",
        "class GlickoRating:\n",
        "    def __init__(self, r=1500, rd=350):\n",
        "        self.r = r\n",
        "        self.rd = rd\n",
        "\n",
        "q = math.log(10) / 400\n",
        "\n",
        "def g(rd):\n",
        "  return 1 / math.sqrt(1 + (3 * q**2 * rd**2) / math.pi**2)\n",
        "\n",
        "def E(r, ro, rdo):\n",
        "    return 1 / (1 + 10**(-g(rdo) * (r - ro) / 400))\n",
        "\n",
        "def o(margin, positiveStat = True):\n",
        "  if positiveStat == True:\n",
        "    return 1 / (1 + math.exp(-margin))\n",
        "  else:\n",
        "    return 1 / (1 + math.exp(margin))\n",
        "\n",
        "def d2(r, ro, rdo):\n",
        "  return (q**2 * g(rdo)**2 * E(r, ro, rdo) * (1 - E(r, ro, rdo)) + 1e-9)**-1 #Added epsilon to prevent error.\n",
        "\n",
        "def rate(ratingP, ratingO, margin, positiveStat=True):\n",
        "  r = ratingP.r\n",
        "  rd = ratingP.rd\n",
        "  ro = ratingO.r\n",
        "  rdo = ratingO.rd\n",
        "  e = E(r, ro, rdo)\n",
        "\n",
        "  if positiveStat == True:\n",
        "    outcome = o(margin, positiveStat = True)\n",
        "  else:\n",
        "    outcome = o(margin, positiveStat = False)\n",
        "\n",
        "  r_updated = r + (q / ((1 / rd**2) + 1 / d2(r, ro, rdo))) * g(rdo) * (outcome - e)\n",
        "  rd_updated = math.sqrt(1 / ((1 / rd**2) + 1 / d2(r, ro, rdo)))\n",
        "\n",
        "  return GlickoRating(r_updated, rd_updated)"
      ],
      "metadata": {
        "id": "-wWt0Z0YnbCm"
      },
      "execution_count": 2,
      "outputs": []
    },
    {
      "cell_type": "markdown",
      "source": [
        "#Defining Constants and Helper Functions"
      ],
      "metadata": {
        "id": "0KO-NrLUP42z"
      }
    },
    {
      "cell_type": "code",
      "source": [
        "exp = {\n",
        "      'goal1':{},\n",
        "      'goal2':{},\n",
        "      'rebounds':{},\n",
        "      'feedWithAttempt':{},\n",
        "      'feedWithoutAttempt':{},\n",
        "      'pickups':{},\n",
        "      'centrePassReceives':{},\n",
        "      'gain':{},\n",
        "      'deflections':{},\n",
        "      'blocks':{},\n",
        "      'blocked':{},\n",
        "      'goalMisses':{},\n",
        "      'generalPlayTurnovers':{},\n",
        "      'penalties':{}\n",
        "      }"
      ],
      "metadata": {
        "id": "xp05QEGtRtZF"
      },
      "execution_count": 10,
      "outputs": []
    },
    {
      "cell_type": "code",
      "source": [
        "#DEFINING CONSTANTS\n",
        "\n",
        "import pandas as pd\n",
        "import numpy as np\n",
        "import glob\n",
        "\n",
        "# Constants\n",
        "TOURNAMENT = \"SSN\"\n",
        "SEASONS = ['2020', '2021', '2022', '2023']\n",
        "DICT_WEIGHTS = {\n",
        "'GS':{\n",
        "    \"goal1\": 0.35,\n",
        "    \"goalMisses\": 0.2,\n",
        "    \"goal2\": 0.15,\n",
        "    \"generalPlayTurnovers\": 0.1,\n",
        "    \"rebounds\": 0.07,\n",
        "    \"blocked\": 0.05,\n",
        "    \"penalties\": 0.05,\n",
        "    \"feedWithAttempt\": 0.01,\n",
        "    \"feedWithoutAttempt\": 0.01,\n",
        "    \"pickups\": 0.01\n",
        "},\n",
        "\n",
        "'GA':{\n",
        "    \"goal1\": 0.25,\n",
        "    \"goalMisses\": 0.15,\n",
        "    \"goal2\": 0.1,\n",
        "    \"feedWithAttempt\": 0.1,\n",
        "    \"generalPlayTurnovers\": 0.1,\n",
        "    \"centrePassReceives\": 0.07,\n",
        "    \"feedWithoutAttempt\": 0.07,\n",
        "    \"blocked\": 0.05,\n",
        "    \"rebounds\": 0.05,\n",
        "    \"penalties\": 0.04,\n",
        "    \"gain\": 0.01,\n",
        "    \"pickups\": 0.01\n",
        "},\n",
        "\n",
        "'WA':{\n",
        "    \"centrePassReceives\": 0.3,\n",
        "    \"feedWithAttempt\": 0.25,\n",
        "    \"generalPlayTurnovers\": 0.15,\n",
        "    \"feedWithoutAttempt\": 0.1,\n",
        "    \"penalties\": 0.07,\n",
        "    \"gain\": 0.05,\n",
        "    \"pickups\": 0.05,\n",
        "    \"deflections\": 0.03\n",
        "},\n",
        "\n",
        "'C': {\n",
        "    \"generalPlayTurnovers\": 0.35,\n",
        "    \"feedWithAttempt\": 0.3,\n",
        "    \"feedWithoutAttempt\": 0.15,\n",
        "    \"penalties\": 0.07,\n",
        "    \"pickups\": 0.07,\n",
        "    \"gain\": 0.05,\n",
        "    \"deflections\": 0.01\n",
        "},\n",
        "\n",
        "'WD': {\n",
        "    \"deflections\": 0.3,\n",
        "    \"penalties\": 0.25,\n",
        "    \"gain\": 0.2,\n",
        "    \"generalPlayTurnovers\": 0.1,\n",
        "    \"centrePassReceives\": 0.07,\n",
        "    \"pickups\": 0.05,\n",
        "    \"feedWithAttempt\": 0.02,\n",
        "    \"feedWithoutAttempt\": 0.01\n",
        "},\n",
        "\n",
        "'GD': {\n",
        "    \"deflections\": 0.35,\n",
        "    \"penalties\": 0.2,\n",
        "    \"gain\": 0.15,\n",
        "    \"blocks\": 0.1,\n",
        "    \"rebounds\": 0.1,\n",
        "    \"generalPlayTurnovers\": 0.05,\n",
        "    \"centrePassReceives\": 0.03,\n",
        "    \"pickups\": 0.02\n",
        "},\n",
        "\n",
        "'GK': {\n",
        "    \"deflections\": 0.35,\n",
        "    \"penalties\": 0.25,\n",
        "    \"gain\": 0.15,\n",
        "    \"blocks\": 0.1,\n",
        "    \"rebounds\": 0.1,\n",
        "    \"generalPlayTurnovers\": 0.03,\n",
        "    \"pickups\": 0.02\n",
        "}\n",
        "}"
      ],
      "metadata": {
        "id": "5JlqQeLxP-UM"
      },
      "execution_count": 4,
      "outputs": []
    },
    {
      "cell_type": "code",
      "source": [
        "# DEFINING LOAD FILES FUNCTION\n",
        "\n",
        "def load_files(tournament, season, file_type):\n",
        "    file_paths = glob.glob(f\"/content/netball-analysis/data/matchCentre/processed/*/*{file_type}*{season}*{tournament}*.csv\")\n",
        "    file_paths.sort()\n",
        "    return file_paths"
      ],
      "metadata": {
        "id": "fs1qBTsGQZ8t"
      },
      "execution_count": 3,
      "outputs": []
    },
    {
      "cell_type": "code",
      "source": [
        "# CLASSIFYING PLAYERS FUNCTION\n",
        "\n",
        "def classify_player_positions(df_subs):\n",
        "    position_dict = {'GS': {}, 'GA': {}, 'WA': {}, 'C': {}, 'WD': {}, 'GD': {}, 'GK': {}, 'S': {}}\n",
        "    for _, row in df_subs.iterrows():\n",
        "        player, position, duration = row['playerId'], row['startingPos'], row['duration']\n",
        "        if player in position_dict[position]:\n",
        "            position_dict[position][player] += duration\n",
        "        else:\n",
        "            position_dict[position][player] = duration\n",
        "    df_time_in_position = pd.DataFrame(position_dict).fillna(0).reset_index().rename(columns={'index': 'playerId'})\n",
        "    df_time_in_position = df_time_in_position[df_time_in_position['S'] != 3600]\n",
        "    df_time_in_position['position'] = df_time_in_position.drop(columns=['playerId', 'S']).idxmax(axis=1)\n",
        "    return df_time_in_position"
      ],
      "metadata": {
        "id": "gwkT57zGQ1Cm"
      },
      "execution_count": 5,
      "outputs": []
    },
    {
      "cell_type": "code",
      "source": [
        "#RATING PLAYERS FUNCTION\n",
        "\n",
        "def calculate_player_ratings(df_player_stats, df_time_in_position, dict_weights, dict_player_ratings, dict_relative_league_ratings, dict_player_stats, dict_league_stats, dict_absolute_ratings):\n",
        "    df_player_stats = df_player_stats.merge(df_time_in_position[['playerId', 'position']], on='playerId', how='left').dropna()\n",
        "    df_player_stats['feedWithoutAttempt'] = df_player_stats['feeds'] - df_player_stats['feedWithAttempt']\n",
        "    relevant_stats = ['goal1', 'goal2', 'rebounds', 'feedWithAttempt', 'feedWithoutAttempt', 'pickups', 'centrePassReceives', 'gain', 'deflections', 'blocks', 'blocked', 'goalMisses', 'generalPlayTurnovers', 'penalties']\n",
        "    for stat in relevant_stats:\n",
        "        df_player_stats[stat] = df_player_stats[stat] / df_player_stats['minutesPlayed']\n",
        "    df_player_stats = df_player_stats[df_player_stats['minutesPlayed'] >= 10]\n",
        "    df_means, df_stds = df_player_stats.groupby('position').mean().round(2).reset_index(), df_player_stats.groupby('position').std().round(2).reset_index()\n",
        "\n",
        "    for i, player in df_player_stats.iterrows():\n",
        "        position, player_id = player['position'], player['playerId']\n",
        "        row_means, row_stds = df_means[df_means['position'] == position], df_stds[df_stds['position'] == position]\n",
        "\n",
        "        for stat in dict_weights[position]:\n",
        "            if stat not in dict_player_ratings:\n",
        "                dict_player_ratings[stat] = {}\n",
        "                dict_relative_league_ratings[stat] = {}\n",
        "                dict_player_stats[stat] = {}\n",
        "                dict_league_stats[stat] = {}\n",
        "            if player_id not in dict_player_ratings[stat]:\n",
        "                dict_player_ratings[stat][player_id] = [GlickoRating()]\n",
        "                dict_relative_league_ratings[stat][player_id] = [GlickoRating()]\n",
        "                dict_player_stats[stat][player_id] = []\n",
        "                dict_league_stats[stat][player_id] = []\n",
        "\n",
        "            player_rating = dict_player_ratings[stat][player_id][-1]\n",
        "            league_average_rating = dict_relative_league_ratings[stat][player_id][-1]\n",
        "            sd = row_stds.iloc[0][stat]\n",
        "            margin = (player[stat] - row_means.iloc[0][stat]) / sd if sd != 0 else 0\n",
        "            player_rating = rate(player_rating, league_average_rating, margin, positiveStat=(stat not in ['blocked', 'goalMisses', 'generalPlayTurnovers', 'penalties']))\n",
        "            league_average_rating = rate(league_average_rating, player_rating, 0, positiveStat=(stat not in ['blocked', 'goalMisses', 'generalPlayTurnovers', 'penalties']))\n",
        "            dict_player_ratings[stat][player_id].append(player_rating)\n",
        "            dict_relative_league_ratings[stat][player_id].append(league_average_rating)\n",
        "            dict_player_stats[stat][player_id].append(player[stat])\n",
        "            dict_league_stats[stat][player_id].append(row_means.iloc[0][stat])\n",
        "\n",
        "        if player_id not in dict_absolute_ratings:\n",
        "            dict_absolute_ratings[player_id] = [1500]\n",
        "        absolute_rating = sum(dict_weights[position][stat] * dict_player_ratings[stat][player_id][-1].r for stat in dict_weights[position])\n",
        "        dict_absolute_ratings[player_id].append(absolute_rating)\n",
        "        df_player_stats.at[i, 'glickoRating'] = absolute_rating\n",
        "\n",
        "    for player in dict_absolute_ratings:\n",
        "        if player not in df_player_stats['playerId'].values:\n",
        "            dict_absolute_ratings[player].append(np.nan)\n",
        "\n",
        "    max_length = max(len(r) for r in dict_absolute_ratings.values())\n",
        "    for player_id, ratings in dict_absolute_ratings.items():\n",
        "        dict_absolute_ratings[player_id] = [np.nan] * (max_length - len(ratings)) + ratings\n",
        "\n",
        "    return df_player_stats\n"
      ],
      "metadata": {
        "id": "cYmh0DEwS3q1"
      },
      "execution_count": 13,
      "outputs": []
    },
    {
      "cell_type": "code",
      "source": [
        "#PROCESSING SEASONS FOR TEAM RATINGS\n",
        "\n",
        "def process_season(season, tournament, dict_weights, dict_player_ratings, dict_relative_league_ratings, dict_player_stats, dict_league_stats, dict_absolute_ratings):\n",
        "    list_subs = load_files(tournament, season, 'substitutions')\n",
        "    list_player_stats = load_files(tournament, season, 'playerStats')\n",
        "    list_team_stats = load_files(tournament, season, 'teamStats')\n",
        "\n",
        "    df_team_ratings = pd.DataFrame()\n",
        "\n",
        "    for week in range(1, 15):\n",
        "        df_subs = pd.concat([pd.read_csv(list_subs[4 * (week - 1) + game]) for game in range(4)])\n",
        "        df_player_stats = pd.concat([pd.read_csv(list_player_stats[4 * (week - 1) + game]) for game in range(4)])\n",
        "        df_team_stats = pd.concat([pd.read_csv(list_team_stats[4 * (week - 1) + game]) for game in range(4)])\n",
        "\n",
        "        df_time_in_position = classify_player_positions(df_subs)\n",
        "        df_player_stats = calculate_player_ratings(df_player_stats, df_time_in_position, dict_weights, dict_player_ratings, dict_relative_league_ratings, dict_player_stats, dict_league_stats, dict_absolute_ratings)\n",
        "\n",
        "        team_average_ratings = df_player_stats[['squadId', 'glickoRating']].groupby('squadId').mean().round(2).reset_index()\n",
        "        df_team_stats = df_team_stats.merge(team_average_ratings, on='squadId', how='left')\n",
        "        df_team_ratings = pd.concat([df_team_ratings, df_team_stats])\n",
        "\n",
        "    return df_team_ratings"
      ],
      "metadata": {
        "id": "1DC_edWSRZbD"
      },
      "execution_count": 14,
      "outputs": []
    },
    {
      "cell_type": "code",
      "source": [
        "# THE FUNCTION OF FUNCTIONS\n",
        "\n",
        "def main():\n",
        "    dict_player_ratings = {stat: {} for stat in exp}\n",
        "    dict_relative_league_ratings = {stat: {} for stat in exp}\n",
        "    dict_player_stats = {stat: {} for stat in exp}\n",
        "    dict_league_stats = {stat: {} for stat in exp}\n",
        "    dict_absolute_ratings = {}\n",
        "    df_team_ratings = pd.DataFrame()\n",
        "\n",
        "    for season in SEASONS:\n",
        "        list_subs = load_files(TOURNAMENT, season, 'substitutions')\n",
        "        list_player_stats = load_files(TOURNAMENT, season, 'playerStats')\n",
        "        list_team_stats = load_files(TOURNAMENT, season, 'teamStats')\n",
        "\n",
        "        for week in range(1, 15):\n",
        "            df_subs = pd.concat([pd.read_csv(list_subs[4 * (week - 1) + game]) for game in range(4)])\n",
        "            df_player_stats = pd.concat([pd.read_csv(list_player_stats[4 * (week - 1) + game]) for game in range(4)])\n",
        "            df_team_stats = pd.concat([pd.read_csv(list_team_stats[4 * (week - 1) + game]) for game in range(4)])\n",
        "\n",
        "            df_time_in_position = classify_player_positions(df_subs)\n",
        "            df_player_stats = calculate_player_ratings(df_player_stats, df_time_in_position, DICT_WEIGHTS, dict_player_ratings, dict_relative_league_ratings, dict_player_stats, dict_league_stats, dict_absolute_ratings)\n",
        "\n",
        "            team_average_ratings = df_player_stats[['squadId', 'glickoRating']].groupby('squadId').mean().round(2).reset_index()\n",
        "            df_team_stats = df_team_stats.merge(team_average_ratings, on='squadId', how='left')\n",
        "            df_team_ratings = pd.concat([df_team_ratings, df_team_stats])\n",
        "\n",
        "    # Save team ratings to a CSV file\n",
        "    df_team_ratings.to_csv(\"team_ratings.csv\", index=False)\n",
        "    print(\"Team Ratings saved to team_ratings.csv\")\n",
        "\n",
        "    # Convert dict_player_ratings to a DataFrame\n",
        "    player_ratings_list = []\n",
        "    for stat, players in dict_player_ratings.items():\n",
        "        for player, ratings in players.items():\n",
        "            for rating in ratings:\n",
        "                player_ratings_list.append([stat, player, rating.r, rating.rd])\n",
        "    df_player_ratings = pd.DataFrame(player_ratings_list, columns=[\"stat\", \"playerId\", \"rating\", \"rd\"])\n",
        "\n",
        "    # Save dict_player_ratings to a CSV file\n",
        "    df_player_ratings.to_csv(\"player_ratings.csv\", index=False)\n",
        "    print(\"Player Ratings saved to player_ratings.csv\")\n",
        "\n",
        "    # Convert dict_absolute_ratings to a DataFrame\n",
        "    absolute_ratings_list = []\n",
        "    for player, ratings in dict_absolute_ratings.items():\n",
        "        for week, rating in enumerate(ratings):\n",
        "            absolute_ratings_list.append([player, week, rating])\n",
        "    df_absolute_ratings = pd.DataFrame(absolute_ratings_list, columns=[\"playerId\", \"week\", \"absolute_rating\"])\n",
        "\n",
        "    # Save dict_absolute_ratings to a CSV file\n",
        "    df_absolute_ratings.to_csv(\"absolute_ratings.csv\", index=False)\n",
        "    print(\"Absolute Ratings saved to absolute_ratings.csv\")\n",
        "\n",
        "if __name__ == \"__main__\":\n",
        "    main()"
      ],
      "metadata": {
        "colab": {
          "base_uri": "https://localhost:8080/"
        },
        "id": "fSGbLcK5Rhmw",
        "outputId": "149cb055-a238-4864-bad5-415a336ca751"
      },
      "execution_count": 26,
      "outputs": [
        {
          "output_type": "stream",
          "name": "stderr",
          "text": [
            "<ipython-input-5-40f9ab1c0c2b>:13: SettingWithCopyWarning: \n",
            "A value is trying to be set on a copy of a slice from a DataFrame.\n",
            "Try using .loc[row_indexer,col_indexer] = value instead\n",
            "\n",
            "See the caveats in the documentation: https://pandas.pydata.org/pandas-docs/stable/user_guide/indexing.html#returning-a-view-versus-a-copy\n",
            "  df_time_in_position['position'] = df_time_in_position.drop(columns=['playerId', 'S']).idxmax(axis=1)\n"
          ]
        },
        {
          "output_type": "stream",
          "name": "stdout",
          "text": [
            "Team Ratings saved to team_ratings.csv\n",
            "Player Ratings saved to player_ratings.csv\n",
            "Absolute Ratings saved to absolute_ratings.csv\n"
          ]
        }
      ]
    }
  ]
}